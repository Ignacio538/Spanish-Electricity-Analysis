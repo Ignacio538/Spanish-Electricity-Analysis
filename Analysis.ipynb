{
 "cells": [
  {
   "cell_type": "code",
   "execution_count": 40,
   "id": "44792632",
   "metadata": {},
   "outputs": [],
   "source": [
    "#Let's import the necessary libraries\n",
    "import pandas as pd\n",
    "import numpy as np\n",
    "import matplotlib.pyplot as plt\n",
    "import seaborn as sns"
   ]
  },
  {
   "cell_type": "code",
   "execution_count": 41,
   "id": "1f5c26bd",
   "metadata": {},
   "outputs": [],
   "source": [
    "#Now let's load the dataset\n",
    "df_capacidad = pd.read_csv('c:/Users/ignac/Desktop/202502PT/Proyecto final/CSV/Capacidad.csv', sep=';')\n",
    "df_demanda = pd.read_csv('c:/Users/ignac/Desktop/202502PT/Proyecto final/CSV/Demanda(bc).csv', sep=';')\n",
    "df_generacion = pd.read_csv('c:/Users/ignac/Desktop/202502PT/Proyecto final/CSV/Generacion.csv', sep=';')\n",
    "df_perdidas = pd.read_csv('c:/Users/ignac/Desktop/202502PT/Proyecto final/CSV/Perdidas.csv', sep=';')\n",
    "df_precios = pd.read_csv('c:/Users/ignac/Desktop/202502PT/Proyecto final/CSV/Precios.csv', sep=';', encoding=\"latin1\")\n",
    "df_clima1 = pd.read_csv('c:/Users/ignac/Desktop/202502PT/Proyecto final/CSV/Clima.csv', sep=';', encoding=\"latin1\")\n",
    "df_clima2 = pd.read_csv('c:/Users/ignac/Desktop/202502PT/Proyecto final/CSV/Clima2.csv', sep=';', encoding=\"latin1\")"
   ]
  },
  {
   "cell_type": "code",
   "execution_count": 42,
   "id": "362aabf3",
   "metadata": {},
   "outputs": [],
   "source": [
    "df_clima = pd.concat([df_clima1, df_clima2], ignore_index=True)"
   ]
  },
  {
   "cell_type": "markdown",
   "id": "a0a82c8f",
   "metadata": {},
   "source": [
    "Now we have the datasets loaded, so let's start with some basic analysis:\n",
    "- Duplicate rows\n",
    "- Nulls\n",
    "- Data types"
   ]
  },
  {
   "cell_type": "code",
   "execution_count": 43,
   "id": "f215c297",
   "metadata": {},
   "outputs": [
    {
     "name": "stdout",
     "output_type": "stream",
     "text": [
      "Número de filas duplicadas en df_clima: 26620\n",
      "Valores nulos en df_clima:\n",
      "Temp Media (ºC)        1999\n",
      "Humedad Media (%)      5972\n",
      "Precipitacion (mm)    10339\n",
      "dtype: int64\n",
      "Porcentaje de valores nulos en df_clima:\n",
      "Temp Media (ºC)       0.108596\n",
      "Humedad Media (%)     0.324430\n",
      "Precipitacion (mm)    0.561668\n",
      "dtype: float64\n",
      "Tipos de datos en df_clima:\n",
      "Source.Name           object\n",
      "IdProvincia            int64\n",
      "IdEstacion             int64\n",
      "Fecha                 object\n",
      "Año                    int64\n",
      "Dia                    int64\n",
      "Temp Media (ºC)       object\n",
      "Humedad Media (%)     object\n",
      "Precipitacion (mm)    object\n",
      "dtype: object\n"
     ]
    }
   ],
   "source": [
    "#Let's see those rows that are duplicated\n",
    "clima_duplicados = df_clima.duplicated().sum()\n",
    "print(f\"Número de filas duplicadas en df_clima: {clima_duplicados}\")\n",
    "\n",
    "#Let's see if we have null values in the dataset and the percentage they represent\n",
    "null_values_clima = df_clima.isnull().sum()\n",
    "null_percentage_clima = (null_values_clima / len(df_clima)) * 100\n",
    "print(\"Valores nulos en df_clima:\")\n",
    "print(null_values_clima[null_values_clima > 0])\n",
    "print(\"Porcentaje de valores nulos en df_clima:\")\n",
    "print(null_percentage_clima[null_percentage_clima > 0])\n",
    "\n",
    "#Let's now check the data types of the columns\n",
    "data_types_clima = df_clima.dtypes\n",
    "print(\"Tipos de datos en df_clima:\")\n",
    "print(data_types_clima)"
   ]
  },
  {
   "cell_type": "markdown",
   "id": "26ec3529",
   "metadata": {},
   "source": [
    "Now we know:\n",
    "- We have a lot of duplicate rows we must remove.\n",
    "- We don't have any relevant nulls.\n",
    "- We have some columns that are not in the correct data type and we will need to convert them (Fecha to datetime, for example)."
   ]
  },
  {
   "cell_type": "code",
   "execution_count": 44,
   "id": "b44e0f9f",
   "metadata": {},
   "outputs": [],
   "source": [
    "#Let's remove the duplicated rows\n",
    "df_clima = df_clima.drop_duplicates()\n",
    "#Now leet's fix the data types of the columns:\n",
    "#First the column 'Fecha' should be in datetime format\n",
    "df_clima['Fecha'] = pd.to_datetime(df_clima['Fecha'], format='%d/%m/%Y')\n",
    "#Now columns 'Temp Media (ºC)', 'Humedad Media (%)' and 'Precipitacion (mm)' should be in float format\n",
    "df_clima['Temp Media (ºC)'] = df_clima['Temp Media (ºC)'].astype(str).str.replace(',', '.').astype(float)\n",
    "df_clima['Humedad Media (%)'] = df_clima['Humedad Media (%)'].astype(str).str.replace(',', '.').astype(float)\n",
    "df_clima['Precipitacion (mm)'] = df_clima['Precipitacion (mm)'].astype(str).str.replace(',', '.').astype(float)"
   ]
  },
  {
   "cell_type": "markdown",
   "id": "358d557f",
   "metadata": {},
   "source": [
    "#Let's do the same analysis for the `df_precios` dataset."
   ]
  },
  {
   "cell_type": "code",
   "execution_count": 45,
   "id": "bb2ba9f5",
   "metadata": {},
   "outputs": [
    {
     "name": "stdout",
     "output_type": "stream",
     "text": [
      "Número de filas duplicadas en df_precios: 0\n",
      "Valores nulos en df_precios:\n",
      "Reserva de potencia adicional a subir    41\n",
      "Fallo nominacion UPG                     41\n",
      "Servicio de interrumpibilidad            41\n",
      "Mecanismo ajuste RD-L 10/2022            96\n",
      "dtype: int64\n",
      "Porcentaje de valores nulos en df_precios:\n",
      "Reserva de potencia adicional a subir    29.927007\n",
      "Fallo nominacion UPG                     29.927007\n",
      "Servicio de interrumpibilidad            29.927007\n",
      "Mecanismo ajuste RD-L 10/2022            70.072993\n",
      "dtype: float64\n",
      "Tipos de datos en df_precios:\n",
      "Año                                                  int64\n",
      "Mes                                                  int64\n",
      "Mercado diario                                      object\n",
      "Mercado intradiario (subastas MIBEL y continuo)     object\n",
      "Restricciones tecnicas PDBF                         object\n",
      "Banda de regulacion secundaria                      object\n",
      "Reserva de potencia adicional a subir               object\n",
      "Restricciones tecnicas en tiempo real               object\n",
      "Incumplimiento de energia de balance                object\n",
      "Coste desvios                                       object\n",
      "Saldo desvios                                       object\n",
      "Control del factor de potencia                      object\n",
      "Saldo PO 14.6                                       object\n",
      "Fallo nominacion UPG                               float64\n",
      "Pagos por capacidad                                 object\n",
      "Servicio de interrumpibilidad                       object\n",
      "Precio total (/MWh)                                object\n",
      "Energia de cierre (MWh)                             object\n",
      "Mecanismo ajuste RD-L 10/2022                       object\n",
      "MesAño                                               int64\n",
      "Mes_Nombre                                          object\n",
      "Mes.Order                                           object\n",
      "dtype: object\n"
     ]
    }
   ],
   "source": [
    "#Let's see those rows that are duplicated\n",
    "precios_duplicados = df_precios.duplicated().sum()\n",
    "print(f\"Número de filas duplicadas en df_precios: {precios_duplicados}\")\n",
    "\n",
    "#Let's see if we have null values in the dataset and the percentage they represent\n",
    "null_values_precios = df_precios.isnull().sum()\n",
    "null_percentage_precios = (null_values_precios / len(df_precios)) * 100\n",
    "print(\"Valores nulos en df_precios:\")\n",
    "print(null_values_precios[null_values_precios > 0])\n",
    "print(\"Porcentaje de valores nulos en df_precios:\")\n",
    "print(null_percentage_precios[null_percentage_precios > 0])\n",
    "\n",
    "#Let's now check the data types of the columns\n",
    "data_types_precios = df_precios.dtypes\n",
    "print(\"Tipos de datos en df_precios:\")\n",
    "print(data_types_precios)"
   ]
  },
  {
   "cell_type": "markdown",
   "id": "6d994051",
   "metadata": {},
   "source": [
    "The only thing we need to fix in this dataset is to replace the commas with dots so we can converts values to float."
   ]
  },
  {
   "cell_type": "code",
   "execution_count": 46,
   "id": "e5eccbc6",
   "metadata": {},
   "outputs": [],
   "source": [
    "#Let's replace the commas with dots in all columns and convert them to float\n",
    "df_precios = df_precios.apply(lambda x: x.str.replace(',', '.') if x.dtype == \"object\" else x)\n",
    "df_precios['Mercado diario'] = df_precios['Mercado diario'].astype(str).str.replace(',', '.').astype(float)\n",
    "df_precios['Mercado intradiario (subastas MIBEL y continuo)'] = df_precios['Mercado intradiario (subastas MIBEL y continuo)'].astype(str).str.replace(',', '.').astype(float)\n",
    "df_precios['Restricciones tecnicas PDBF'] = df_precios['Restricciones tecnicas PDBF'].astype(str).str.replace(',', '.').astype(float)\n",
    "df_precios['Banda de regulacion secundaria'] = df_precios['Banda de regulacion secundaria'].astype(str).str.replace(',', '.').astype(float)\n",
    "df_precios['Reserva de potencia adicional a subir'] = df_precios['Reserva de potencia adicional a subir'].astype(str).str.replace(',', '.').astype(float)\n",
    "df_precios['Restricciones tecnicas en tiempo real'] = df_precios['Restricciones tecnicas en tiempo real'].astype(str).str.replace(',', '.').astype(float)\n",
    "df_precios['Incumplimiento de energia de balance'] = df_precios['Incumplimiento de energia de balance'].astype(str).str.replace(',', '.').astype(float)\n",
    "df_precios['Coste desvios'] = df_precios['Coste desvios'].astype(str).str.replace(',', '.').astype(float)\n",
    "df_precios['Saldo desvios'] = df_precios['Saldo desvios'].astype(str).str.replace(',', '.').astype(float)\n",
    "df_precios['Control del factor de potencia'] = df_precios['Control del factor de potencia'].astype(str).str.replace(',', '.').astype(float)\n",
    "df_precios['Saldo PO 14.6'] = df_precios['Saldo PO 14.6'].astype(str).str.replace(',', '.').astype(float)\n",
    "df_precios['Pagos por capacidad'] = df_precios['Pagos por capacidad'].astype(str).str.replace(',', '.').astype(float)\n",
    "df_precios['Servicio de interrumpibilidad'] = df_precios['Servicio de interrumpibilidad'].astype(str).str.replace(',', '.').astype(float)\n",
    "df_precios['Precio total (/MWh)'] = df_precios['Precio total (/MWh)'].astype(str).str.replace(',', '.').astype(float)\n",
    "df_precios['Energia de cierre (MWh)'] = df_precios['Energia de cierre (MWh)'].astype(str).str.replace(',', '.').astype(float)\n",
    "df_precios['Mecanismo ajuste RD-L 10/2022'] = df_precios['Mecanismo ajuste RD-L 10/2022'].astype(str).str.replace(',', '.').astype(float)\n"
   ]
  },
  {
   "cell_type": "markdown",
   "id": "2ffa87d8",
   "metadata": {},
   "source": [
    "#Let's analyze the next dataset"
   ]
  },
  {
   "cell_type": "code",
   "execution_count": 47,
   "id": "60b76272",
   "metadata": {},
   "outputs": [
    {
     "name": "stdout",
     "output_type": "stream",
     "text": [
      "Número de filas duplicadas en df_perdidas: 0\n",
      "Valores nulos en df_perdidas:\n",
      "Series([], dtype: int64)\n",
      "Porcentaje de valores nulos en df_perdidas:\n",
      "Series([], dtype: float64)\n",
      "Tipos de datos en df_perdidas:\n",
      "Fecha                     object\n",
      "Perdidas de transporte    object\n",
      "Demanda                   object\n",
      "Region                    object\n",
      "dtype: object\n"
     ]
    }
   ],
   "source": [
    "#Let's see those rows that are duplicated\n",
    "perdidas_duplicados = df_perdidas.duplicated().sum()\n",
    "print(f\"Número de filas duplicadas en df_perdidas: {perdidas_duplicados}\")\n",
    "\n",
    "#Let's see if we have null values in the dataset and the percentage they represent\n",
    "null_values_perdidas = df_perdidas.isnull().sum()\n",
    "null_percentage_perdidas = (null_values_perdidas / len(df_perdidas)) * 100\n",
    "print(\"Valores nulos en df_perdidas:\")\n",
    "print(null_values_perdidas[null_values_perdidas > 0])\n",
    "print(\"Porcentaje de valores nulos en df_perdidas:\")\n",
    "print(null_percentage_perdidas[null_percentage_perdidas > 0])\n",
    "\n",
    "#Let's now check the data types of the columns\n",
    "data_types_perdidas = df_perdidas.dtypes\n",
    "print(\"Tipos de datos en df_perdidas:\")\n",
    "print(data_types_perdidas)"
   ]
  },
  {
   "cell_type": "markdown",
   "id": "50603bbe",
   "metadata": {},
   "source": [
    "We have to change the format of the three first columns"
   ]
  },
  {
   "cell_type": "code",
   "execution_count": 48,
   "id": "1691f86c",
   "metadata": {},
   "outputs": [],
   "source": [
    "#Let's change column 'Fecha' as it should be in datetime format\n",
    "df_perdidas['Fecha'] = pd.to_datetime(df_perdidas['Fecha'], format='%d/%m/%Y')\n",
    "#Now columns 'Perdidas de transporte' and 'Demanda' should be in float format\n",
    "df_perdidas['Perdidas de transporte'] = df_perdidas['Perdidas de transporte'].astype(str).str.replace(',', '.').astype(float)\n",
    "df_perdidas['Demanda'] = df_perdidas['Demanda'].astype(str).str.replace(',', '.').astype(float)"
   ]
  },
  {
   "cell_type": "markdown",
   "id": "1a15a223",
   "metadata": {},
   "source": [
    "Time to check the next dataset."
   ]
  },
  {
   "cell_type": "code",
   "execution_count": 49,
   "id": "08ba9dd9",
   "metadata": {},
   "outputs": [
    {
     "name": "stdout",
     "output_type": "stream",
     "text": [
      "Número de filas duplicadas en df_generacion: 0\n",
      "Valores nulos en df_generacion:\n",
      "Hidroeolica    911\n",
      "dtype: int64\n",
      "Porcentaje de valores nulos en df_generacion:\n",
      "Hidroeolica    18.591837\n",
      "dtype: float64\n",
      "Tipos de datos en df_generacion:\n",
      "Fecha                     object\n",
      "Hidraulica                object\n",
      "Nuclear                   object\n",
      "Carbon                    object\n",
      "Motores diesel            object\n",
      "Turbina de gas            object\n",
      "Turbina de vapor          object\n",
      "Ciclo combinado           object\n",
      "Eolica                    object\n",
      "Solar fotovoltaica        object\n",
      "Solar termica             object\n",
      "Otras renovables          object\n",
      "Cogeneracion              object\n",
      "Residuos no renovables    object\n",
      "Residuos renovables       object\n",
      "Fuel + Gas                object\n",
      "Hidroeolica               object\n",
      "Generacion total          object\n",
      "dtype: object\n"
     ]
    }
   ],
   "source": [
    "#Let's see those rows that are duplicated\n",
    "generacion_duplicados = df_generacion.duplicated().sum()\n",
    "print(f\"Número de filas duplicadas en df_generacion: {generacion_duplicados}\")\n",
    "\n",
    "#Let's see if we have null values in the dataset and the percentage they represent\n",
    "null_values_generacion = df_generacion.isnull().sum()\n",
    "null_percentage_generacion = (null_values_generacion / len(df_generacion)) * 100\n",
    "print(\"Valores nulos en df_generacion:\")\n",
    "print(null_values_generacion[null_values_generacion > 0])\n",
    "print(\"Porcentaje de valores nulos en df_generacion:\")\n",
    "print(null_percentage_generacion[null_percentage_generacion > 0])\n",
    "\n",
    "#Let's now check the data types of the columns\n",
    "data_types_generacion = df_generacion.dtypes\n",
    "print(\"Tipos de datos en df_generacion:\")\n",
    "print(data_types_generacion)"
   ]
  },
  {
   "cell_type": "markdown",
   "id": "829d164d",
   "metadata": {},
   "source": [
    "All columns have the wrong format"
   ]
  },
  {
   "cell_type": "code",
   "execution_count": 50,
   "id": "102ff1fb",
   "metadata": {},
   "outputs": [],
   "source": [
    "#All columns except \"Fecha\", which should be datetime, should be as float\n",
    "df_generacion['Fecha'] = pd.to_datetime(df_generacion['Fecha'], format='%d/%m/%Y')\n",
    "df_generacion = df_generacion.apply(lambda x: x.str.replace(',', '.') if x.dtype == \"object\" else x)\n",
    "df_generacion['Hidraulica'] = df_generacion['Hidraulica'].astype(str).str.replace(',', '.').astype(float)\n",
    "df_generacion['Nuclear'] = df_generacion['Nuclear'].astype(str).str.replace(',', '.').astype(float)\n",
    "df_generacion['Carbon'] = df_generacion['Carbon'].astype(str).str.replace(',', '.').astype(float)\n",
    "df_generacion['Motores diesel'] = df_generacion['Motores diesel'].astype(str).str.replace(',', '.').astype(float)\n",
    "df_generacion['Turbina de gas'] = df_generacion['Turbina de gas'].astype(str).str.replace(',', '.').astype(float)\n",
    "df_generacion['Turbina de vapor'] = df_generacion['Turbina de vapor'].astype(str).str.replace(',', '.').astype(float)\n",
    "df_generacion['Ciclo combinado'] = df_generacion['Ciclo combinado'].astype(str).str.replace(',', '.').astype(float)\n",
    "df_generacion['Eolica'] = df_generacion['Eolica'].astype(str).str.replace(',', '.').astype(float)\n",
    "df_generacion['Solar fotovoltaica'] = df_generacion['Solar fotovoltaica'].astype(str).str.replace(',', '.').astype(float)\n",
    "df_generacion['Solar termica'] = df_generacion['Solar termica'].astype(str).str.replace(',', '.').astype(float)\n",
    "df_generacion['Otras renovables'] = df_generacion['Otras renovables'].astype(str).str.replace(',', '.').astype(float)\n",
    "df_generacion['Cogeneracion'] = df_generacion['Cogeneracion'].astype(str).str.replace(',', '.').astype(float)\n",
    "df_generacion['Residuos no renovables'] = df_generacion['Residuos no renovables'].astype(str).str.replace(',', '.').astype(float)\n",
    "df_generacion['Residuos renovables'] = df_generacion['Residuos renovables'].astype(str).str.replace(',', '.').astype(float)\n",
    "df_generacion['Fuel + Gas'] = df_generacion['Fuel + Gas'].astype(str).str.replace(',', '.').astype(float)\n",
    "df_generacion['Hidroeolica'] = df_generacion['Hidroeolica'].astype(str).str.replace(',', '.').astype(float)\n",
    "df_generacion['Generacion total'] = df_generacion['Generacion total'].astype(str).str.replace(',', '.').astype(float)\n"
   ]
  },
  {
   "cell_type": "markdown",
   "id": "94f23b8e",
   "metadata": {},
   "source": [
    "Now let's check the next dataset."
   ]
  },
  {
   "cell_type": "code",
   "execution_count": 51,
   "id": "27e9ee81",
   "metadata": {},
   "outputs": [
    {
     "name": "stdout",
     "output_type": "stream",
     "text": [
      "Número de filas duplicadas en df_demanda: 0\n",
      "Valores nulos en df_demanda:\n",
      "Series([], dtype: int64)\n",
      "Porcentaje de valores nulos en df_demanda:\n",
      "Series([], dtype: float64)\n",
      "Tipos de datos en df_demanda:\n",
      "Fecha      object\n",
      "Demanda    object\n",
      "Tipo       object\n",
      "dtype: object\n"
     ]
    }
   ],
   "source": [
    "#Let's see those rows that are duplicated\n",
    "demanda_duplicados = df_demanda.duplicated().sum()\n",
    "print(f\"Número de filas duplicadas en df_demanda: {demanda_duplicados}\")\n",
    "\n",
    "#Let's see if we have null values in the dataset and the percentage they represent\n",
    "null_values_demanda = df_demanda.isnull().sum()\n",
    "null_percentage_demanda = (null_values_demanda / len(df_demanda)) * 100\n",
    "print(\"Valores nulos en df_demanda:\")\n",
    "print(null_values_demanda[null_values_demanda > 0])\n",
    "print(\"Porcentaje de valores nulos en df_demanda:\")\n",
    "print(null_percentage_demanda[null_percentage_demanda > 0])\n",
    "\n",
    "#Let's now check the data types of the columns\n",
    "data_types_demanda = df_demanda.dtypes\n",
    "print(\"Tipos de datos en df_demanda:\")\n",
    "print(data_types_demanda)"
   ]
  },
  {
   "cell_type": "markdown",
   "id": "8191da64",
   "metadata": {},
   "source": [
    "Columns 'Fecha' and 'Demanda' have the wrong format"
   ]
  },
  {
   "cell_type": "code",
   "execution_count": 52,
   "id": "0e44e74c",
   "metadata": {},
   "outputs": [],
   "source": [
    "#First the column 'Fecha' should be in datetime format\n",
    "df_demanda['Fecha'] = pd.to_datetime(df_demanda['Fecha'], format='%d/%m/%Y')\n",
    "#Now columns 'Demanda' should be in float format\n",
    "df_demanda['Demanda'] = df_demanda['Demanda'].astype(str).str.replace(',', '.').astype(float)"
   ]
  },
  {
   "cell_type": "markdown",
   "id": "52748d95",
   "metadata": {},
   "source": [
    "Let's analyze the last dataset"
   ]
  },
  {
   "cell_type": "code",
   "execution_count": 53,
   "id": "076f8f8d",
   "metadata": {},
   "outputs": [
    {
     "name": "stdout",
     "output_type": "stream",
     "text": [
      "Número de filas duplicadas en df_capacidad: 0\n",
      "Valores nulos en df_capacidad:\n",
      "Series([], dtype: int64)\n",
      "Porcentaje de valores nulos en df_capacidad:\n",
      "Series([], dtype: float64)\n",
      "Tipos de datos en df_capacidad:\n",
      "Type of Energy         object\n",
      "Capacity/Generation    object\n",
      "On/Off grid            object\n",
      "Year                    int64\n",
      "MW                     object\n",
      "dtype: object\n"
     ]
    }
   ],
   "source": [
    "#Let's see those rows that are duplicated\n",
    "capacidad_duplicados = df_capacidad.duplicated().sum()\n",
    "print(f\"Número de filas duplicadas en df_capacidad: {capacidad_duplicados}\")\n",
    "\n",
    "#Let's see if we have null values in the dataset and the percentage they represent\n",
    "null_values_capacidad = df_capacidad.isnull().sum()\n",
    "null_percentage_capacidad = (null_values_capacidad / len(df_capacidad)) * 100\n",
    "print(\"Valores nulos en df_capacidad:\")\n",
    "print(null_values_capacidad[null_values_capacidad > 0])\n",
    "print(\"Porcentaje de valores nulos en df_capacidad:\")\n",
    "print(null_percentage_capacidad[null_percentage_capacidad > 0])\n",
    "\n",
    "#Let's now check the data types of the columns\n",
    "data_types_capacidad = df_capacidad.dtypes\n",
    "print(\"Tipos de datos en df_capacidad:\")\n",
    "print(data_types_capacidad)"
   ]
  },
  {
   "cell_type": "markdown",
   "id": "026b2c5a",
   "metadata": {},
   "source": [
    "The only change we must do is to correct the format on column 'MW'"
   ]
  },
  {
   "cell_type": "code",
   "execution_count": null,
   "id": "edaf56ee",
   "metadata": {},
   "outputs": [],
   "source": [
    "df_capacidad['MW'] = df_capacidad['MW'].astype(str).str.replace(',', '.').astype(float)"
   ]
  }
 ],
 "metadata": {
  "kernelspec": {
   "display_name": "Python 3",
   "language": "python",
   "name": "python3"
  },
  "language_info": {
   "codemirror_mode": {
    "name": "ipython",
    "version": 3
   },
   "file_extension": ".py",
   "mimetype": "text/x-python",
   "name": "python",
   "nbconvert_exporter": "python",
   "pygments_lexer": "ipython3",
   "version": "3.12.9"
  }
 },
 "nbformat": 4,
 "nbformat_minor": 5
}
